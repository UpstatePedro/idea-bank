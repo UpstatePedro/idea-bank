{
 "cells": [
  {
   "cell_type": "markdown",
   "metadata": {},
   "source": [
    "# What is an algorithm?\n",
    "\n",
    "An algorithm is a set of instructions for accomplishing a task.\n",
    "\n",
    "There are often many ways to accomplish a task, and so we need to understand the trade-offs in order to know how best to accomplish a task in a given context."
   ]
  },
  {
   "cell_type": "markdown",
   "metadata": {},
   "source": [
    "## A motivating example: binary search\n",
    "\n",
    "Imagine that we need to find an element in a sorted list. More specifically, we want to return the position of the desired element in that list, or `null` if it cannot be found.\n",
    "\n",
    "**Simple search** might be the most obvious & basic attempt to solve that task. It starts at the first element, and moves through them one-by-one, in sequence, until it finds the right answer. If our desired value happens to be the first element, then we're in luck. If it isn't, and our list is long, then we might have to check a lot of values before we get our answer...\n",
    "\n",
    "**Binary search** dramatically reduces the number of values we have to check before we find the position of our desired element. At each step it selects the mid-point of the remaining elements and establishes whether that location is too low or too high in order to determine which elements it can remove from consideration, and which elements are still contenders (remember, it's a sorted list). This process is repeated with each step until we find the target value (or exhaust the possibilities)."
   ]
  },
  {
   "cell_type": "code",
   "execution_count": 2,
   "metadata": {},
   "outputs": [],
   "source": [
    "from typing import Union\n",
    "\n",
    "def simple_search(sorted_elements: list, target_value: int) -> Union[int, None]:\n",
    "    for index, element in enumerate(sorted_elements):\n",
    "        if element == target_value:\n",
    "            return index"
   ]
  },
  {
   "cell_type": "code",
   "execution_count": 3,
   "metadata": {},
   "outputs": [
    {
     "name": "stdout",
     "output_type": "stream",
     "text": [
      "3\n",
      "6\n",
      "None\n"
     ]
    }
   ],
   "source": [
    "sorted_list = [0, 1, 2, 3, 4, 5, 6, 7]\n",
    "\n",
    "print(simple_search(sorted_list, 3))\n",
    "print(simple_search(sorted_list, 6))\n",
    "print(simple_search(sorted_list, 9))"
   ]
  },
  {
   "cell_type": "code",
   "execution_count": 20,
   "outputs": [
    {
     "name": "stdout",
     "output_type": "stream",
     "text": [
      "5 guesses\n"
     ]
    },
    {
     "data": {
      "text/plain": "20"
     },
     "execution_count": 20,
     "metadata": {},
     "output_type": "execute_result"
    }
   ],
   "source": [
    "def binary_search(sorted_elements: list, target_value: int) -> Union[int, None]:\n",
    "    search_boundaries = {'low': 0, 'high': len(sorted_elements) - 1}\n",
    "    guesses = 0\n",
    "    while search_boundaries['low'] <= search_boundaries['high']:\n",
    "        mid_point = int((search_boundaries['low'] + search_boundaries['high']) / 2)\n",
    "        midpoint_value = sorted_elements[mid_point]\n",
    "        guesses += 1\n",
    "        if midpoint_value == target_value:\n",
    "            print(f\"{guesses} guesses\")\n",
    "            return mid_point\n",
    "        if midpoint_value > target_value:\n",
    "            search_boundaries['high'] = mid_point - 1\n",
    "        else:\n",
    "            search_boundaries['low'] = mid_point + 1\n",
    "    return\n",
    "\n",
    "binary_search([0, 1, 2, 3, 4, 5, 6, 7, 8, 9, 10, 11, 12, 13, 14, 15, 16, 17, 18, 19, 20], 16)"
   ],
   "metadata": {
    "collapsed": false,
    "pycharm": {
     "name": "#%%\n"
    }
   }
  },
  {
   "cell_type": "markdown",
   "source": [
    "2^0 = 1\n",
    "2^1 = 2\n",
    "2^2 = 4\n",
    "2^3 = 8\n",
    "2^4 = 16\n",
    "2^5 = 32\n",
    "2^6 = 64"
   ],
   "metadata": {
    "collapsed": false
   }
  },
  {
   "cell_type": "markdown",
   "source": [
    "# Recursion\n",
    "\n",
    "A recursive recipe must contain three ingredients:\n",
    "\n",
    "1. Stopping criteria\n",
    "2. A first step (gets the ball rolling)\n",
    "3. A repetitive component (that will lead us to the stopping criteria)"
   ],
   "metadata": {
    "collapsed": false
   }
  },
  {
   "cell_type": "markdown",
   "source": [
    "# Resources\n",
    "\n",
    "[Eliana Lopez's crib sheet](https://github.com/elianalopez/Data-Structures-and-Algorithms-Notes-with-Python)\n",
    "[Complexity of Python Operations](https://www.ics.uci.edu/~pattis/ICS-33/lectures/complexitypython.txt)"
   ],
   "metadata": {
    "collapsed": false
   }
  }
 ],
 "metadata": {
  "kernelspec": {
   "display_name": "Python 3",
   "language": "python",
   "name": "python3"
  },
  "language_info": {
   "codemirror_mode": {
    "name": "ipython",
    "version": 3
   },
   "file_extension": ".py",
   "mimetype": "text/x-python",
   "name": "python",
   "nbconvert_exporter": "python",
   "pygments_lexer": "ipython3",
   "version": "3.8.5"
  }
 },
 "nbformat": 4,
 "nbformat_minor": 4
}