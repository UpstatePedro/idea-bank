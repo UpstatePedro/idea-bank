{
 "cells": [
  {
   "cell_type": "markdown",
   "metadata": {},
   "source": [
    "# SQL\n",
    "\n",
    "Brief summary of key SQL \n",
    "\n",
    "## Intro\n",
    "\n",
    "***Procedural** programming languages define both the desired outcome and the process by which to achieve it. The procedural paradigm is a subset of the imperative paradigm.\n",
    "\n",
    "***Non-procedural*** languages define the desired outcome, but omit the process - that is left to something/one else to figure out. (similarities with the declarative paradigm)\n",
    "\n",
    "SQL is a non-procedural language: it uses statements to define the expected inputs and outputs; the database engine's ***optimiser*** works out an efficient execution path between the two.\n",
    "\n",
    "The SQL language supports several different types of statements: \n",
    "- ***schema statements*** define the data structures stored in the database\n",
    "- ***data statements*** manipulate the data in the database\n",
    "- ***transaction statements*** manage changes to the database using transactions\n"
   ]
  },
  {
   "cell_type": "markdown",
   "metadata": {},
   "source": [
    "sqlite will create a disk-based SQL database - with no server required - that lives in a file. \n",
    "\n",
    "To get started, we'll create a database called 'example.db' and create a connection to it:"
   ]
  },
  {
   "cell_type": "code",
   "execution_count": 2,
   "metadata": {},
   "outputs": [
    {
     "name": "stdout",
     "output_type": "stream",
     "text": [
      "(2, 6, 0)\n"
     ]
    }
   ],
   "source": [
    "import sqlite3\n",
    "\n",
    "print(sqlite3.version_info)\n",
    "conn = sqlite3.connect('example.db')"
   ]
  },
  {
   "cell_type": "markdown",
   "metadata": {},
   "source": [
    "## Data types\n",
    "\n",
    "\n",
    "### Characters\n",
    "\n",
    "```SQL\n",
    "char(20) /* fixed-length, max 255 bytes*/\n",
    "varchar(280) /* variable-length, max 65 KB*/\n",
    "```\n",
    "\n",
    "### Text\n",
    "\n",
    "```SQL\n",
    "tinytext /* 255 bytes*/\n",
    "text /* 65 KB*/\n",
    "mediumtext /* 16.8 MB*/\n",
    "longtext /* 4.3 GB*/\n",
    "```\n",
    "\n",
    "### Numerical\n",
    "\n",
    "#### Integer types\n",
    "\n",
    "```SQL\n",
    "tinyint\n",
    "smallint\n",
    "mediumint\n",
    "int\n",
    "bigint\n",
    "```\n",
    "\n",
    "#### Floating-point types\n",
    "\n",
    "```SQL\n",
    "float\n",
    "double\n",
    "```\n",
    "\n",
    "### Temporal\n",
    "\n",
    "```SQL\n",
    "date\n",
    "datetime\n",
    "timestamp\n",
    "year\n",
    "time\n",
    "```\n",
    "\n"
   ]
  },
  {
   "cell_type": "markdown",
   "metadata": {},
   "source": [
    "## Creating tables\n",
    "\n",
    "Shape of a table-creation statement\n",
    "\n",
    "```SQL\n",
    "CREATE TABLE <table_name>\n",
    "(\n",
    "    <col_name> <data_type> <other_args>, /* pattern */\n",
    "    reference_num INT UNSIGNED, /* example 1 */\n",
    "    name VARCHAR(30), /* example 2 */\n",
    "    ...\n",
    ");\n",
    "```\n",
    "\n",
    "### Constraints\n",
    "\n",
    "Alongside the column definition entries, we can also add constraints on their values\n",
    "\n",
    "```SQL\n",
    "CONSTRAINT <constraint_name> PRIMARY KEY (<column_name>) /* Make <column_name> the primary key */\n",
    "CONSTRAINT <constraint_name> PRIMARY KEY (<column_name1>, <column_name2>) /* Create a composite primary key */\n",
    "CONSTRAINT <constraint_name> FOREIGN KEY (<column_name>) REFERENCES <table_name> (<column_name>) /* Constrain the values in a column to those that appear in the column of another table */\n",
    "```\n",
    "\n",
    "To enforce the values that a column can take, there is also a `CHECK` keyword that can be used to specify the list of acceptable values & enforce a check against them.\n",
    "\n",
    "In the case of MySQL, we use `ENUM` instead of `CHECK`."
   ]
  },
  {
   "cell_type": "code",
   "execution_count": 5,
   "metadata": {},
   "outputs": [
    {
     "name": "stdout",
     "output_type": "stream",
     "text": [
      "[]\n"
     ]
    }
   ],
   "source": [
    "def print_tables(conn):\n",
    "    cursor = conn.cursor()\n",
    "    cursor.execute(\"SELECT name FROM sqlite_master WHERE type='table';\")\n",
    "    print(cursor.fetchall())\n",
    "    cursor.close()\n",
    "    \n",
    "print_tables(conn)"
   ]
  },
  {
   "cell_type": "code",
   "execution_count": 6,
   "metadata": {},
   "outputs": [],
   "source": [
    "CREATE_TABLE = \"\"\"\n",
    "\n",
    "\n",
    "\"\"\""
   ]
  },
  {
   "cell_type": "markdown",
   "metadata": {},
   "source": [
    "## Manipulating data"
   ]
  },
  {
   "cell_type": "markdown",
   "metadata": {},
   "source": [
    "## Querying data\n",
    "\n",
    "Queries produce **result sets**"
   ]
  },
  {
   "cell_type": "markdown",
   "metadata": {},
   "source": [
    "## Aggregations & analytics"
   ]
  }
 ],
 "metadata": {
  "kernelspec": {
   "display_name": "Idea-Bank (Py3.7)",
   "language": "python",
   "name": "idea-bank"
  },
  "language_info": {
   "codemirror_mode": {
    "name": "ipython",
    "version": 3
   },
   "file_extension": ".py",
   "mimetype": "text/x-python",
   "name": "python",
   "nbconvert_exporter": "python",
   "pygments_lexer": "ipython3",
   "version": "3.7.7"
  }
 },
 "nbformat": 4,
 "nbformat_minor": 4
}
