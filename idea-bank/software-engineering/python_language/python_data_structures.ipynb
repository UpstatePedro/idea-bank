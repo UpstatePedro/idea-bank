{
 "cells": [
  {
   "cell_type": "markdown",
   "metadata": {
    "pycharm": {
     "name": "#%% md\n"
    }
   },
   "source": [
    "# Python data structures\n",
    "\n",
    "This section seeks to understand some of Python's key built-in data structures.\n",
    "\n"
   ]
  },
  {
   "cell_type": "markdown",
   "metadata": {},
   "source": [
    "## `list`\n",
    "\n",
    "### Key properties\n",
    "\n",
    "- Mutable: contents can change\n",
    "- Contents can be of differing types \n",
    "\n",
    "### Implementation\n",
    "\n",
    "The CPython implementation is a variable-length array, rather than a linked-list.\n",
    "The list head structure holds:\n",
    "1. a pointer to a contiguous array of references to other objects\n",
    "2. the current length of the array\n",
    "\n",
    "This design makes the indexing of a list independent of the size of the array, or the requested index.\n",
    "\n",
    "The array is resized when items are appended or removed - with some extra space added during appends to improve the performance of repeated appends.\n",
    "\n",
    "### Performance / complexity\n",
    "\n",
    "| Operation         | Example            | Complexity class     | Notes |\n",
    "| :-------------    |:-------------      |---------------       |-------------------------------|\n",
    "| Initialisation    | `list(...)`        | $O(N)$               | depends on the number of elements |\n",
    "| Retrieve by index | `l[i]`             | $O(1)$               | |\n",
    "| Retrieve slice    | `l[a:b]`           | $O(b-a)$             | l[1:5]:O(l)/l[:]:O(len(l)-0)=O(N) |\n",
    "| Write at index    | `l[i] = 0`         | $O(1)$               | |\n",
    "| Write slice       | `l[a:b] = ...`     | $O(N)$               |  |\n",
    "| List length       | `len(l)`           | $O(1)$               | |\n",
    "| Append item       | `l.append(5)`      | $O(1)$               | (not always) |\n",
    "| Pop               | `l.pop()`          | $O(1)$               | same as l.pop(-1), popping at end |\n",
    "| Pop by index      | `l.pop(i)`         | $O(N)$               | O(N-i): l.pop(0):O(N) (see above) |\n",
    "| Extend            | `l.extend(...)`    | $O(len(...))$        | depends only on len of extension |\n",
    "| check ==, !=      | `l1 == l2`         | $O(N)$               | |\n",
    "| Search            | `x in/not in l`    | $O(N)$               | linearly searches list  |\n",
    "| Copy              | `l.copy()`         | $O(N)$               | Same as l[:] which is O(N) |\n",
    "| Remove            | `l.remove(...)`    | $O(N)$               |  |\n",
    "| Delete            | `del l[i]`         | $O(N)$               | depends on i; O(N) in worst case |\n",
    "| Reverse           | `l.reverse()`      | $O(N)$               | |\n",
    "| Iteration         | `for v in l:`      | $O(N)$               | Worst: no return/break in loop |\n",
    "| Sort              | `l.sort()`         | $O(N Log N)$         | key/reverse mostly doesn't change |\n",
    "| Multiply          | `k*l`              | $O(k N)$             | 5*l is O(N): len(l)*l is O(N**2) |"
   ]
  },
  {
   "cell_type": "markdown",
   "metadata": {},
   "source": [
    "## `tuple`\n",
    "\n",
    "The tuple in python is an immutable list. As with the list, it is implemented as an array but because it is immutable, it has a fixed size.\n",
    "\n",
    "### Key properties\n",
    "\n",
    "- Immutable: once created, the contents of a tuple cannot change (wrt the objects they refer to). To have a tuple with modified contents, we must create a new tuple (but should consider why we're using a tuple if we need to)\n",
    "- Contents can be of different types\n",
    "- Contents of tuples can be mutable: a tuple could contain a list as one of its elements\n",
    "\n",
    "### Named tuples\n",
    "\n",
    "Named tuples allow us to provide labels for the elements of our tuples, and to access values using these labels.\n"
   ]
  },
  {
   "cell_type": "code",
   "execution_count": 10,
   "metadata": {},
   "outputs": [
    {
     "name": "stdout",
     "output_type": "stream",
     "text": [
      "Values accessed by indexing:  (12, 'large')\n",
      "Values accessed by named attributes:  tup-2 small\n"
     ]
    }
   ],
   "source": [
    "from collections import namedtuple\n",
    "# Define the labels for the elements of the tuples you plan to create\n",
    "LabelledDataStruct = namedtuple('LabelledDataStruct', ['name', 'age', 'attr2'])\n",
    "\n",
    "# Create some records\n",
    "nt1 = LabelledDataStruct('tup-1', 12, 'large')\n",
    "nt2 = LabelledDataStruct('tup-2', 14, 'small')\n",
    "\n",
    "# Index values as with normal tuples\n",
    "print('Values accessed by indexing: ', nt1[1:])\n",
    "\n",
    "# And access values using the labels\n",
    "print('Values accessed by named attributes: ', nt2.name, nt2.attr2)"
   ]
  },
  {
   "cell_type": "markdown",
   "metadata": {},
   "source": [
    "## `set`\n",
    "\n",
    "\n",
    "### Key properties\n",
    "\n",
    "- Mutable: you can add / remove elements from a set\n",
    "- Contents can be of different types (but more common to have a set of the same types)\n",
    "- Contents must be immutable (can't have a list, could have a tuple)\n",
    "\n",
    "### Implementation\n",
    "\n",
    "### Performance\n",
    "\n",
    "| Operation         | Example            | Complexity class     | Notes |\n",
    "| :-------------    |:-------------      |---------------       |-------------------------------|\n",
    "| Initialisation    | `set(...)`         | $O(N)$               | Depends on the number of elements |\n",
    "| Set size          | `len(s)`           | $O(1)$               | |\n",
    "| Add item          | `l.add(5)`         | $O(1)$               | |\n",
    "| Remove item       | `l.remove(...)`    | $O(1)$               | Scales better than list/tuple: $O(N)$ |\n",
    "| Search for item   | `x in/not in s`    | $O(1)$               | Scales better than list/tuple: $O(N)$ |\n",
    "| check ==, !=      | `s1 == s2`         | $O(1)$ or $O(N)$     | False if sets are not of same length |\n",
    "| Is subset         | `s1 <= s2`         | $O(len(s1))$         | Chevron points to the complexity... |\n",
    "| Is superset       | `s1 >= s2`         | $O(len(s2))$         | |\n",
    "| Union             | `s1 | s2 `         | $O(len(s1)+len(s2))$ | |\n",
    "| Intersection      | `s1 & s2 `         | $O(len(s1)+len(s2))$ | |\n",
    "| Difference        | `s1 - s2 `         | $O(len(s1)+len(s2))$ | |\n",
    "| Symmetric diff.   | `s1 ^ s2 `         | $O(len(s1)+len(s2))$ | |\n"
   ]
  },
  {
   "cell_type": "markdown",
   "metadata": {},
   "source": [
    "## `dict`\n",
    "\n",
    "### Key properties\n",
    "\n",
    "- Keys must be immutable (so the hash function returns the same value)\n",
    "\n",
    "### Implementation\n",
    "\n",
    "The CPython implementation of `dict` is a **resizable hash table**\n",
    "\n",
    "The hash function is **locality-insensitive**, so even small differences in the key can result in very different outputs from the hash function.\n",
    "\n",
    "Keys are assigned to the hash array by taking the hash function output modulo the size of the hash table(?).\n",
    "\n",
    "### Performance / complexity\n",
    "\n",
    "| Operation         | Example            | Complexity class     | Notes |\n",
    "| :-------------    |:-------------      |---------------       |-------------------------------|\n",
    "| Initialisation    | `dict(...)`        | $O(N)$               | depends on the number of inputs |\n",
    "| Retrieve by key   | `d[k]`             | $O(1)$               |  |\n",
    "| Retrieve w get()  | `d.get(k)`         | $O(1)$               |  |\n",
    "| Insert new k,v pair| `d[k] = v `       | $O(1)$               |  |\n",
    "| Delete key        | `del d[k]`         | $O(1)$               |  |\n",
    "| List keys / values| `d.keys()` / `d.values()`| $O(1)$         |  |\n",
    "| Iteration         | `for k in d:`      | $O(N)$               |  |\n",
    "| Pop               | `d.pop(k)`         | $O(1)$               |  |\n"
   ]
  },
  {
   "cell_type": "markdown",
   "metadata": {},
   "source": [
    "## Summary\n",
    "\n",
    "| type | sequence| mutable |\n",
    "|:----:|:-------:|:-------:|\n",
    "| tuple| yes     | no      |\n",
    "| list | yes     | yes     |\n",
    "| dict | no      | yes     |\n",
    "| set  | no      | yes     |\n"
   ]
  },
  {
   "cell_type": "markdown",
   "metadata": {
    "pycharm": {
     "name": "#%% md\n"
    }
   },
   "source": [
    "## (Re)sources\n",
    "\n",
    "[Python design docs](https://docs.python.org/3.8/faq/design.html#how-are-dictionaries-implemented-in-cpython)\n",
    "\n",
    "[Complexity of Python Operations](https://www.ics.uci.edu/~pattis/ICS-33/lectures/complexitypython.txt)"
   ]
  }
 ],
 "metadata": {
  "kernelspec": {
   "display_name": "Python 3",
   "language": "python",
   "name": "python3"
  },
  "language_info": {
   "codemirror_mode": {
    "name": "ipython",
    "version": 3
   },
   "file_extension": ".py",
   "mimetype": "text/x-python",
   "name": "python",
   "nbconvert_exporter": "python",
   "pygments_lexer": "ipython3",
   "version": "3.8.5"
  }
 },
 "nbformat": 4,
 "nbformat_minor": 4
}
