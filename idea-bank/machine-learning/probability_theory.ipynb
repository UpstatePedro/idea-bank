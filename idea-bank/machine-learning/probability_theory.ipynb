{
 "cells": [
  {
   "cell_type": "markdown",
   "metadata": {},
   "source": [
    "# Probability theory\n",
    "\n",
    "## Uncertainty\n",
    "\n",
    "Probability is used to quantify our uncertainty concerning unknown events or phenomena.\n",
    "\n",
    "Uncertainty comes in 2 different flavours:\n",
    "1. **Epistemic** (also, model uncertainty): originates due to our imperfect understanding of the processes that we are modelling. Colleting more, and better, data can help to reduce this.\n",
    "2. **Aleatoric**: originates in the intrinsic variability of these processes. Collecting more data won't change this.\n",
    "\n",
    "ie. we can become extremely confident that our model correctly understands a process, but if it tells us that there's an 80% chance of outcome A and 20% chance of outcome B, then there is still uncertainty in any prediction that we make.\n",
    "\n",
    "## Fundamental concepts\n",
    "\n",
    "### Basic notation\n",
    "\n",
    "\n",
    "### Joint probability\n",
    "\n",
    "\n",
    "### Union\n",
    "\n",
    "\n",
    "### Conditional probability\n",
    "\n",
    "\n",
    "### Independence & conditional independence\n",
    "\n",
    "\n",
    "### Random variables\n",
    "\n",
    "\n",
    "### Discrete random variables\n",
    "\n",
    "\n",
    "### Continuous random variables\n",
    "\n",
    "\n",
    "### Cumulative distribution function (cdf)\n",
    "\n",
    "\n",
    "### Probability distribution function (pdf)\n",
    "\n",
    "\n",
    "### Percent point function (ppf)\n",
    "\n",
    "Also known as the ***inverse cdf*** or ***quantile function***"
   ]
  },
  {
   "cell_type": "markdown",
   "metadata": {},
   "source": [
    "## Laws\n",
    "\n",
    "### Sum rule\n",
    "\n",
    "Also know as the ****rule of total probability***\n",
    "\n",
    "### Product rule\n",
    "\n",
    "\n",
    "### Chain rule"
   ]
  },
  {
   "cell_type": "markdown",
   "metadata": {},
   "source": [
    "## Bayes' rule"
   ]
  },
  {
   "cell_type": "markdown",
   "metadata": {},
   "source": [
    "## Properties of a distribution\n",
    "\n",
    "### Moments\n",
    "\n",
    "#### Mean\n",
    "\n",
    "bla\n",
    "\n",
    "#### Variance\n",
    "\n",
    "\n",
    "#### Mode\n",
    "\n",
    "\n",
    "### Conditional moments\n",
    "\n",
    "#### Covariance\n",
    "\n",
    "#### Correlation"
   ]
  },
  {
   "cell_type": "markdown",
   "metadata": {},
   "source": [
    "## Central limit theorem"
   ]
  }
 ],
 "metadata": {
  "kernelspec": {
   "display_name": "Idea-Bank (Py3.7)",
   "language": "python",
   "name": "idea-bank"
  },
  "language_info": {
   "codemirror_mode": {
    "name": "ipython",
    "version": 3
   },
   "file_extension": ".py",
   "mimetype": "text/x-python",
   "name": "python",
   "nbconvert_exporter": "python",
   "pygments_lexer": "ipython3",
   "version": "3.7.7"
  }
 },
 "nbformat": 4,
 "nbformat_minor": 4
}
